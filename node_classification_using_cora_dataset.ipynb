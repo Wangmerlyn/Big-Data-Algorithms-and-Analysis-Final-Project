{
 "cells": [
  {
   "cell_type": "code",
   "execution_count": 1,
   "metadata": {
    "ExecuteTime": {
     "end_time": "2023-12-26T23:01:45.733617Z",
     "start_time": "2023-12-26T23:01:38.243337Z"
    }
   },
   "outputs": [],
   "source": [
    "\n",
    "import os\n",
    "from torch_geometric.datasets import Planetoid\n",
    "from torch_geometric.transforms import NormalizeFeatures"
   ]
  },
  {
   "cell_type": "code",
   "execution_count": 2,
   "metadata": {
    "ExecuteTime": {
     "end_time": "2023-12-26T23:01:45.744660Z",
     "start_time": "2023-12-26T23:01:45.733617Z"
    },
    "collapsed": false
   },
   "outputs": [],
   "source": [
    "data_dir = \"./data\"\n",
    "os.makedirs(data_dir, exist_ok= True)"
   ]
  },
  {
   "cell_type": "code",
   "execution_count": 3,
   "metadata": {
    "ExecuteTime": {
     "end_time": "2023-12-26T23:01:45.765483Z",
     "start_time": "2023-12-26T23:01:45.745893Z"
    },
    "collapsed": false
   },
   "outputs": [],
   "source": [
    "cora_dataset = Planetoid(root=data_dir, name='Cora', transform=NormalizeFeatures())"
   ]
  },
  {
   "cell_type": "code",
   "execution_count": 4,
   "metadata": {
    "ExecuteTime": {
     "end_time": "2023-12-26T23:01:45.785045Z",
     "start_time": "2023-12-26T23:01:45.765483Z"
    },
    "collapsed": false
   },
   "outputs": [],
   "source": [
    "data = cora_dataset[0]"
   ]
  },
  {
   "cell_type": "code",
   "execution_count": 5,
   "metadata": {
    "ExecuteTime": {
     "end_time": "2023-12-26T23:01:45.869832Z",
     "start_time": "2023-12-26T23:01:45.776097Z"
    },
    "collapsed": false
   },
   "outputs": [
    {
     "name": "stdout",
     "output_type": "stream",
     "text": [
      "Number of graphs: 1\n"
     ]
    }
   ],
   "source": [
    "print(f'Number of graphs: {len(cora_dataset)}')"
   ]
  },
  {
   "cell_type": "code",
   "execution_count": 6,
   "metadata": {
    "ExecuteTime": {
     "end_time": "2023-12-26T23:01:45.873586Z",
     "start_time": "2023-12-26T23:01:45.806099Z"
    },
    "collapsed": false
   },
   "outputs": [
    {
     "name": "stdout",
     "output_type": "stream",
     "text": [
      "Number of features: 7\n"
     ]
    }
   ],
   "source": [
    "print(\"Number of features:\", cora_dataset.num_classes)"
   ]
  },
  {
   "cell_type": "code",
   "execution_count": 7,
   "metadata": {
    "ExecuteTime": {
     "end_time": "2023-12-26T23:01:45.873586Z",
     "start_time": "2023-12-26T23:01:45.824687Z"
    },
    "collapsed": false
   },
   "outputs": [
    {
     "name": "stdout",
     "output_type": "stream",
     "text": [
      "Number of features: 1433\n"
     ]
    }
   ],
   "source": [
    "print(\"Number of features:\", cora_dataset.num_features)"
   ]
  },
  {
   "cell_type": "code",
   "execution_count": 8,
   "metadata": {
    "ExecuteTime": {
     "end_time": "2023-12-26T23:01:45.873586Z",
     "start_time": "2023-12-26T23:01:45.831547Z"
    },
    "collapsed": false
   },
   "outputs": [
    {
     "data": {
      "text/plain": [
       "tensor([0.0000, 0.0000, 0.0000, 0.0000, 0.0000, 0.0000, 0.0000, 0.0000, 0.0000,\n",
       "        0.0000, 0.0000, 0.0000, 0.0000, 0.0000, 0.0000, 0.0000, 0.0000, 0.0000,\n",
       "        0.0000, 0.1111, 0.0000, 0.0000, 0.0000, 0.0000, 0.0000, 0.0000, 0.0000,\n",
       "        0.0000, 0.0000, 0.0000, 0.0000, 0.0000, 0.0000, 0.0000, 0.0000, 0.0000,\n",
       "        0.0000, 0.0000, 0.0000, 0.0000, 0.0000, 0.0000, 0.0000, 0.0000, 0.0000,\n",
       "        0.0000, 0.0000, 0.0000, 0.0000, 0.0000])"
      ]
     },
     "execution_count": 8,
     "metadata": {},
     "output_type": "execute_result"
    }
   ],
   "source": [
    "data.x[0][:50]"
   ]
  },
  {
   "cell_type": "code",
   "execution_count": 9,
   "metadata": {
    "ExecuteTime": {
     "end_time": "2023-12-26T23:01:45.873586Z",
     "start_time": "2023-12-26T23:01:45.857189Z"
    },
    "collapsed": false
   },
   "outputs": [
    {
     "data": {
      "text/plain": [
       "tensor([3, 4, 4,  ..., 3, 3, 3])"
      ]
     },
     "execution_count": 9,
     "metadata": {},
     "output_type": "execute_result"
    }
   ],
   "source": [
    "data.y"
   ]
  },
  {
   "cell_type": "code",
   "execution_count": 10,
   "metadata": {
    "ExecuteTime": {
     "end_time": "2023-12-26T23:01:45.980751Z",
     "start_time": "2023-12-26T23:01:45.873586Z"
    },
    "collapsed": false
   },
   "outputs": [],
   "source": [
    "import torch\n",
    "import torch.nn.functional as F\n",
    "from torch.nn import Linear\n",
    "from torch_geometric.nn import GCNConv, GATConv"
   ]
  },
  {
   "cell_type": "code",
   "execution_count": 11,
   "metadata": {},
   "outputs": [
    {
     "data": {
      "text/plain": [
       "<torch._C.Generator at 0x7f6a0d340110>"
      ]
     },
     "execution_count": 11,
     "metadata": {},
     "output_type": "execute_result"
    }
   ],
   "source": [
    "RANDOM_SEED = 42\n",
    "torch.manual_seed(RANDOM_SEED)"
   ]
  },
  {
   "cell_type": "code",
   "execution_count": 12,
   "metadata": {},
   "outputs": [],
   "source": [
    "\n",
    "class GFusion(torch.nn.Module):\n",
    "\tdef __init__(self, num_features, num_classes):\n",
    "\t\tsuper(GFusion, self).__init__()\n",
    "\t\tself.conv1 = GATConv(num_features, 8, heads=8, dropout=0.4)\n",
    "\t\tself.cconv1 = GCNConv(8*8,8*8, cached=True, normalize=True)\n",
    "\t\tself.conv2 = GATConv(8*8, 8*8, heads=1, concat=True, dropout=0.4)\n",
    "\t\tself.cconv2 = GCNConv(8*8, num_classes, cached=True, normalize=True)\n",
    "\n",
    "\tdef forward(self, x, edge_index):\n",
    "\t\tx = self.conv1(x, edge_index)\n",
    "\t\tx = F.elu(x)\n",
    "\t\tx = self.cconv1(x, edge_index)\n",
    "\t\tx = F.relu(x)\n",
    "\t\tx = self.conv2(x, edge_index)\n",
    "\t\tx = F.elu(x)\n",
    "\t\tx = self.cconv2(x, edge_index)\n",
    "\t\treturn F.log_softmax(x, dim=1)"
   ]
  },
  {
   "cell_type": "code",
   "execution_count": 13,
   "metadata": {},
   "outputs": [],
   "source": [
    "\n",
    "# The GATConv class implements the Graph Attention Network layer introduced in the GAT paper.\n",
    "\n",
    "class GAT(torch.nn.Module):\n",
    "\tdef __init__(self, num_features, num_classes):\n",
    "\t\tsuper(GAT, self).__init__()\n",
    "\t\tself.conv1 = GATConv(num_features, 8, heads=8, dropout=0.6)\n",
    "\t\tself.conv2 = GATConv(8*8, num_classes, heads=1, concat=True, dropout=0.6)\n",
    "\n",
    "\tdef forward(self, x, edge_index):\n",
    "\t\tx = self.conv1(x, edge_index)\n",
    "\t\tx = F.elu(x)\n",
    "\t\tx = self.conv2(x, edge_index)\n",
    "\t\treturn F.log_softmax(x, dim=1)"
   ]
  },
  {
   "cell_type": "code",
   "execution_count": 14,
   "metadata": {
    "ExecuteTime": {
     "end_time": "2023-12-26T23:01:46.005695Z",
     "start_time": "2023-12-26T23:01:45.905250Z"
    },
    "collapsed": false
   },
   "outputs": [],
   "source": [
    "# The GCN Model\n",
    "\n",
    "class GCN(torch.nn.Module):\n",
    "    def __init__(self, hidden_channels):\n",
    "        super(GCN, self).__init__()\n",
    "        torch.manual_seed(42)\n",
    "\n",
    "        self.conv1 = GCNConv(cora_dataset.num_features, hidden_channels)\n",
    "        self.conv2 = GCNConv(hidden_channels, hidden_channels)\n",
    "        self.out = Linear(hidden_channels, cora_dataset.num_classes)\n",
    "\n",
    "    def forward(self, x, edge_index):\n",
    "        # First Message Passing Layer\n",
    "        x = self.conv1(x, edge_index)\n",
    "        x = x.relu()\n",
    "        x = F.dropout(x, p=0.5, training=self.training)\n",
    "\n",
    "        # Second Message Passing Layer\n",
    "        x = self.conv2(x, edge_index)\n",
    "        x = x.relu()\n",
    "        x = F.dropout(x, p=0.5, training=self.training)\n",
    "\n",
    "        # Output layer\n",
    "        x = F.softmax(self.out(x), dim=1)\n",
    "        return x\n"
   ]
  },
  {
   "cell_type": "markdown",
   "metadata": {
    "collapsed": false
   },
   "source": []
  },
  {
   "cell_type": "code",
   "execution_count": 15,
   "metadata": {
    "ExecuteTime": {
     "end_time": "2023-12-26T23:10:04.905632Z",
     "start_time": "2023-12-26T23:10:04.677561Z"
    },
    "collapsed": false
   },
   "outputs": [
    {
     "name": "stdout",
     "output_type": "stream",
     "text": [
      "GFusion(\n",
      "  (conv1): GATConv(1433, 8, heads=8)\n",
      "  (cconv1): GCNConv(64, 64)\n",
      "  (conv2): GATConv(64, 64, heads=1)\n",
      "  (cconv2): GCNConv(64, 7)\n",
      ")\n"
     ]
    }
   ],
   "source": [
    "device = torch.device('cuda:0' if torch.cuda.is_available() else 'cpu')\n",
    "# model = GCN(hidden_channels=16)\n",
    "model = GFusion(num_features=cora_dataset.num_features, num_classes=cora_dataset.num_classes)\n",
    "print(model)\n",
    "model = model.to(device)\n",
    "data = data.to(device)"
   ]
  },
  {
   "cell_type": "code",
   "execution_count": 16,
   "metadata": {
    "ExecuteTime": {
     "end_time": "2023-12-26T23:10:07.961548Z",
     "start_time": "2023-12-26T23:10:07.948627Z"
    },
    "collapsed": false
   },
   "outputs": [],
   "source": [
    "# Initialize Optimizer\n",
    "learning_rate = 0.01\n",
    "decay = 5e-4\n",
    "optimizer = torch.optim.Adam(model.parameters()\n",
    "                             ,lr = learning_rate,\n",
    "                             weight_decay= decay)"
   ]
  },
  {
   "cell_type": "code",
   "execution_count": 17,
   "metadata": {
    "ExecuteTime": {
     "end_time": "2023-12-26T23:10:09.802160Z",
     "start_time": "2023-12-26T23:10:09.781473Z"
    },
    "collapsed": false
   },
   "outputs": [],
   "source": [
    "# Loss Function\n",
    "criterion = torch.nn.CrossEntropyLoss()"
   ]
  },
  {
   "cell_type": "code",
   "execution_count": 18,
   "metadata": {
    "ExecuteTime": {
     "end_time": "2023-12-26T23:10:10.194049Z",
     "start_time": "2023-12-26T23:10:10.186475Z"
    },
    "collapsed": false
   },
   "outputs": [],
   "source": [
    "def train():\n",
    "    model.train()\n",
    "    optimizer.zero_grad()\n",
    "    out = model(data.x, data.edge_index)\n",
    "    loss = criterion(out[data.train_mask], data.y[data.train_mask])\n",
    "    loss.backward()\n",
    "    optimizer.step()\n",
    "    return loss\n",
    "\n"
   ]
  },
  {
   "cell_type": "code",
   "execution_count": 19,
   "metadata": {
    "ExecuteTime": {
     "end_time": "2023-12-26T23:10:10.654858Z",
     "start_time": "2023-12-26T23:10:10.626811Z"
    },
    "collapsed": false
   },
   "outputs": [],
   "source": [
    "def test():\n",
    "    model.eval()\n",
    "    out = model(data.x, data.edge_index)\n",
    "    pred = out.argmax(dim=1)\n",
    "    test_correct = pred[data.test_mask] == data.y[data.test_mask]\n",
    "    test_acc = int(test_correct.sum())/int(data.test_mask.sum())\n",
    "    return test_acc"
   ]
  },
  {
   "cell_type": "code",
   "execution_count": 20,
   "metadata": {
    "collapsed": false
   },
   "outputs": [
    {
     "name": "stdout",
     "output_type": "stream",
     "text": [
      "Epoch:000, Loss:1.9461\n",
      "Epoch:100, Loss:0.0801\n",
      "Epoch:200, Loss:0.0172\n",
      "Epoch:300, Loss:0.0174\n",
      "Epoch:400, Loss:0.0171\n",
      "Epoch:500, Loss:0.0327\n",
      "Epoch:600, Loss:0.0323\n",
      "Epoch:700, Loss:0.0308\n",
      "Epoch:800, Loss:0.0190\n",
      "Epoch:900, Loss:0.0278\n",
      "Epoch:1000, Loss:0.0274\n"
     ]
    }
   ],
   "source": [
    "losses = []\n",
    "for epoch in range(0, 1001):\n",
    "    loss = train()\n",
    "    losses.append(loss)\n",
    "    if epoch % 100 == 0:\n",
    "        print(f'Epoch:{epoch:03d}, Loss:{loss:.4f}')"
   ]
  },
  {
   "cell_type": "code",
   "execution_count": 21,
   "metadata": {},
   "outputs": [
    {
     "data": {
      "image/png": "[encoded data removed]",
      "text/plain": [
       "<Figure size 640x480 with 1 Axes>"
      ]
     },
     "metadata": {},
     "output_type": "display_data"
    }
   ],
   "source": [
    "import seaborn as sns\n",
    "import matplotlib.pyplot as plt\n",
    "\n",
    "losses_float = [float(loss.cpu().detach().numpy()) for loss in losses]\n",
    "loss_indices = [i for i,l in enumerate(losses_float)]\n",
    "plt = plt.plot(loss_indices, losses_float)\n"
   ]
  },
  {
   "cell_type": "code",
   "execution_count": 22,
   "metadata": {},
   "outputs": [
    {
     "name": "stdout",
     "output_type": "stream",
     "text": [
      "Test Accuracy: 0.7730\n"
     ]
    }
   ],
   "source": [
    "test_acc = test()\n",
    "print(f'Test Accuracy: {test_acc:.4f}')"
   ]
  }
 ],
 "metadata": {
  "kernelspec": {
   "display_name": "touchless",
   "language": "python",
   "name": "python3"
  },
  "language_info": {
   "codemirror_mode": {
    "name": "ipython",
    "version": 3
   },
   "file_extension": ".py",
   "mimetype": "text/x-python",
   "name": "python",
   "nbconvert_exporter": "python",
   "pygments_lexer": "ipython3",
   "version": "3.11.4"
  }
 },
 "nbformat": 4,
 "nbformat_minor": 2
}
